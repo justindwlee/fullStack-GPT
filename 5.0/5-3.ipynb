{
 "cells": [
  {
   "cell_type": "code",
   "execution_count": 3,
   "metadata": {},
   "outputs": [],
   "source": [
    "from langchain.memory import ConversationSummaryBufferMemory\n",
    "from langchain.chat_models import ChatOpenAI\n",
    "\n",
    "llm = ChatOpenAI(temperature=0.1)\n",
    "\n",
    "memory = ConversationSummaryBufferMemory(\n",
    "    llm=llm,\n",
    "    max_token_limit=150,\n",
    "    return_messages=True,\n",
    ")\n",
    "\n",
    "def add_message(input, output):\n",
    "    memory.save_context({\"input\": input}, {\"output\": output})\n",
    "\n",
    "def get_history():\n",
    "    return memory.load_memory_variables({})\n",
    "\n",
    "add_message(\"Hi I'm Justin Lee, I live in South Korea.\", \"Wow that is so cool man!\")"
   ]
  },
  {
   "cell_type": "code",
   "execution_count": 4,
   "metadata": {},
   "outputs": [
    {
     "data": {
      "text/plain": [
       "{'history': [HumanMessage(content=\"Hi I'm Justin Lee, I live in South Korea.\"),\n",
       "  AIMessage(content='Wow that is so cool man!')]}"
      ]
     },
     "execution_count": 4,
     "metadata": {},
     "output_type": "execute_result"
    }
   ],
   "source": [
    "get_history()"
   ]
  },
  {
   "cell_type": "code",
   "execution_count": 8,
   "metadata": {},
   "outputs": [
    {
     "data": {
      "text/plain": [
       "{'history': [SystemMessage(content=\"The human introduces himself as Justin Lee from South Korea. The AI expresses admiration for Justin's background and mentions wanting to visit South Korea someday because it is so pretty. When asked about the distance between Korea and Argentina, the AI admits it doesn't know and jokes about needing to search it up. Justin comments on the beauty of South Korea, to which the AI expresses a desire to visit someday. Justin then asks about the distance between Korea and Argentina.\"),\n",
       "  AIMessage(content=\"I don't know! I guess i'll have to search it up haha\"),\n",
       "  HumanMessage(content='Then how far is Brazil from Argentina bruh'),\n",
       "  AIMessage(content=\"I don't know! it must be very far though\"),\n",
       "  HumanMessage(content='South Korea is so pretty'),\n",
       "  AIMessage(content='I wish I could go someday'),\n",
       "  HumanMessage(content='How far is Korea from Argentina by the way?'),\n",
       "  AIMessage(content=\"I don't know! I guess i'll have to search it up haha\"),\n",
       "  HumanMessage(content='Then how far is Brazil from Argentina bruh'),\n",
       "  AIMessage(content=\"I don't know! it must be very far though\")]}"
      ]
     },
     "execution_count": 8,
     "metadata": {},
     "output_type": "execute_result"
    }
   ],
   "source": [
    "add_message(\"South Korea is so pretty\", \"I wish I could go someday\")\n",
    "add_message(\"How far is Korea from Argentina by the way?\", \"I don't know! I guess i'll have to search it up haha\")\n",
    "add_message(\"Then how far is Brazil from Argentina bruh\", \"I don't know! it must be very far though\")\n",
    "\n",
    "\n",
    "get_history()"
   ]
  }
 ],
 "metadata": {
  "kernelspec": {
   "display_name": "env",
   "language": "python",
   "name": "python3"
  },
  "language_info": {
   "codemirror_mode": {
    "name": "ipython",
    "version": 3
   },
   "file_extension": ".py",
   "mimetype": "text/x-python",
   "name": "python",
   "nbconvert_exporter": "python",
   "pygments_lexer": "ipython3",
   "version": "3.11.11"
  }
 },
 "nbformat": 4,
 "nbformat_minor": 2
}
